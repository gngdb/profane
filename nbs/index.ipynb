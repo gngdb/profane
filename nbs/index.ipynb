{
 "cells": [
  {
   "cell_type": "code",
   "execution_count": null,
   "metadata": {},
   "outputs": [],
   "source": [
    "#| hide\n",
    "from profane.core import *"
   ]
  },
  {
   "cell_type": "markdown",
   "metadata": {},
   "source": [
    "# profane\n",
    "\n",
    "> Not sacred"
   ]
  },
  {
   "cell_type": "markdown",
   "metadata": {},
   "source": [
    "A hacky substitute for [sacred][], logging where, when and what experiment was run. As a comparison:\n",
    "\n",
    "* [sacred][]: logs everything to MongoDB, requires integrating it into your code and using it to manage your config variables\n",
    "* **profane**: logs everything to a local directory, requires no integration into your code, and doesn't care about your config variables beyond logging them\n",
    "\n",
    "It's a wrapper for [weights & biases][wandb] so I don't have to write my own\n",
    "terminal output capture solution. It just gets captured the same way it would be\n",
    "if I was looking at it in the `wandb` dashboard. In addition, `wandb` captures\n",
    "various metadata that I can just copy over, along with traces logging system\n",
    "metrics (which `profane` has tools to extract to `.csv`).\n",
    "\n",
    "This also means that the interface is the same as using `wandb`:\n",
    "\n",
    "```\n",
    "from profane.core import init\n",
    "\n",
    "# somewhere in your script before you start your experiment:\n",
    "run = init(\n",
    "    project='my_project'\n",
    ")\n",
    "```\n",
    "\n",
    "All kwargs are passed to `wandb` but `wandb` is run offline by default, set\n",
    "`mode='online'` to change this.  This runs `wandb.init` internally so any future\n",
    "calls to `wandb` will work as expected.\n",
    "\n",
    "The difference from `wandb` is that when the run finishes the logs are copied to two locations:\n",
    "\n",
    "* `local`: a local directory where **everything** captured gets saved; this is a backup of the wandb directory\n",
    "* `shared`: a shared directory (I use a local git repo) where only the metadata and terminal logs get saved\n",
    "\n",
    "Information about every run is saved and the logs are saved, nothing is lost,\n",
    "and if I need to get more detail I can go look at the `local` directory and find\n",
    "detailed information, such as all of the code if I enable [`settings=wandb.Settings(code_dir=\".\")`][wandbcode].\n",
    "\n",
    "Another option to do something similar would be\n",
    "[`script`](https://man7.org/linux/man-pages/man1/script.1.html) but it would\n",
    "fail logging progress bars and other things that `wandb` captures without\n",
    "problems. Also, it would require me to write my own solution for capturing\n",
    "metadata.\n",
    "\n",
    "[sacred]: https://github.com/IDSIA/sacred\n",
    "[wandb]: https://github.com/wandb/wandb\n",
    "[wandbcode]: https://docs.wandb.ai/guides/app/features/panels/code"
   ]
  },
  {
   "cell_type": "markdown",
   "metadata": {},
   "source": [
    "## Install\n",
    "\n",
    "I haven't put it on pypi yet so a dev install is recommended:"
   ]
  },
  {
   "cell_type": "markdown",
   "metadata": {},
   "source": [
    "```sh\n",
    "git clone git@github.com:gngdb/profane.git\n",
    "cd profane\n",
    "pip install -e .\n",
    "```"
   ]
  },
  {
   "cell_type": "markdown",
   "metadata": {},
   "source": [
    "## How to use"
   ]
  },
  {
   "cell_type": "markdown",
   "metadata": {},
   "source": [
    "Before using `profane` run setup to set `local` and `shared` storage:"
   ]
  },
  {
   "cell_type": "code",
   "execution_count": null,
   "metadata": {},
   "outputs": [
    {
     "name": "stdout",
     "output_type": "stream",
     "text": [
      "usage: Set up a ~/.profanerc file and register the required directories.\n",
      "       [-h] [--user USER] local_storage shared_storage\n",
      "\n",
      "positional arguments:\n",
      "  local_storage   The local storage directory, everything will be stored here.\n",
      "  shared_storage  The shared storage directory, only the terminal logs and\n",
      "                  metadata will be stored here.\n",
      "\n",
      "options:\n",
      "  -h, --help      show this help message and exit\n",
      "  --user USER     Optional: The user name to use for the shared storage\n",
      "                  directory.\n"
     ]
    }
   ],
   "source": [
    "!profane_setup --help"
   ]
  },
  {
   "cell_type": "markdown",
   "metadata": {},
   "source": [
    "Then, as described above, `profane.core.init` can be used in place of [`wandb.init`](https://docs.wandb.ai/ref/python/init), all `kwargs` are passed to `wandb.init`. The only difference is the results are saved in the directories listed above.\n",
    "\n",
    "In addition, profane kwargs may be provided prefixed by `profane_`. Currently, this includes:\n",
    "\n",
    "* `profane_save` a list of paths to plaintext files that should be saved in the shared storage\n",
    "\n",
    "```python\n",
    "init(\n",
    "    config: Union[Dict, str, None] = None,\n",
    "    project: Optional[str] = None,\n",
    "    entity: Optional[str] = None,\n",
    "    tags: Optional[Sequence] = None,\n",
    "    group: Optional[str] = None,\n",
    "    name: Optional[str] = None,\n",
    "    notes: Optional[str] = None,\n",
    "    profane_save: Optional[Sequence] = None,\n",
    ") -> Union[Run, RunDisabled, None]\n",
    "```\n",
    "\n",
    "`project` is used to name the directory in `shared` and `local` that will store whatever is logged.\n"
   ]
  },
  {
   "cell_type": "markdown",
   "metadata": {},
   "source": [
    "## Example Logged"
   ]
  },
  {
   "cell_type": "markdown",
   "metadata": {},
   "source": [
    "Example directory containing the metadata and logs from a run (the `shared` dir), logged with `profane`:"
   ]
  },
  {
   "cell_type": "code",
   "execution_count": null,
   "metadata": {},
   "outputs": [
    {
     "name": "stdout",
     "output_type": "stream",
     "text": [
      "- requirements.txt\n",
      "- git.status\n",
      "- config.json\n",
      "- output.log\n",
      "- wandb-summary.json\n",
      "- argv.txt\n",
      "- conda-environment.yaml\n",
      "- system_stats.csv\n",
      "- wandb-metadata.json\n",
      "- git.patch\n"
     ]
    }
   ],
   "source": [
    "from pathlib import Path\n",
    "\n",
    "log_path = Path('./../offline-run-20230908_161004-d9b952ad')\n",
    "print(\"- \" + \"\\n- \".join(p.name for p in log_path.glob('*')))"
   ]
  },
  {
   "cell_type": "code",
   "execution_count": null,
   "metadata": {},
   "outputs": [
    {
     "data": {
      "text/markdown": [
       "### requirements.txt"
      ],
      "text/plain": [
       "<IPython.core.display.Markdown object>"
      ]
     },
     "metadata": {},
     "output_type": "display_data"
    },
    {
     "data": {
      "text/markdown": [
       "```python\n",
       "absl-py==1.4.0\n",
       "appdirs==1.4.4\n",
       "appnope==0.1.3\n",
       "asttokens==2.2.1\n",
       "attrs==23.1.0\n",
       "backcall==0.2.0\n",
       "backports.functools-lru-cache==1.6.4\n",
       "beautifulsoup4==4.12.2\n",
       "bleach==6.0.0\n",
       "brotlipy==0.7.0\n",
       "cachetools==5.3.1\n",
       "certifi==2023.5.7\n",
       "cffi==1.15.1\n",
       "charset-normalizer==2.0.4\n",
       "click==8.1.3\n",
       "contourpy==1.0.5\n",
       "cryptography==39.0.1\n",
       "cycler==0.11.0\n",
       "dahuffman==0.4.1\n",
       "debugpy==1.5.1\n",
       "decorator==5.1.1\n",
       "defusedxml==0.7.1\n",
       "dill==0.3.6\n",
       "docker-pycreds==0.4.0\n",
       "einops==0.6.1\n",
       "executing==1.2.0\n",
       "fastjsonschema==2.18.0\n",
       "filelock==3.9.0\n",
       "fonttools==4.25.0\n",
       "fsspec==2023.6.0\n",
       "gitdb==4.0.10\n",
       "gitpython==3.1.31\n",
       "gmpy2==2.1.2\n",
       "google-auth-oauthlib==1.0.0\n",
       "google-auth==2.21.0\n",
       "grpcio==1.56.0\n",
       "hjson==3.1.0\n",
       "idna==3.4\n",
       "importlib-metadata==6.6.0\n",
       "ipykernel==6.15.0\n",
       "ipython==8.14.0\n",
       "jedi==0.18.2\n",
       "jinja2==3.1.2\n",
       "jsonschema-specifications==2023.7.1\n",
       "jsonschema==4.19.0\n",
       "jupyter-client==8.2.0\n",
       "jupyter-core==5.3.0\n",
       "jupyterlab-pygments==0.2.2\n",
       "kiwisolver==1.4.4\n",
       "markdown==3.4.3\n",
       "markupsafe==2.1.3\n",
       "matplotlib-inline==0.1.6\n",
       "matplotlib==3.7.1\n",
       "mistune==3.0.1\n",
       "mpmath==1.2.1\n",
       "munkres==1.1.4\n",
       "mypy-extensions==1.0.0\n",
       "nbclient==0.8.0\n",
       "nbconvert==7.7.4\n",
       "nbformat==5.9.2\n",
       "nest-asyncio==1.5.6\n",
       "networkx==2.8.4\n",
       "ninja==1.11.1\n",
       "numpy==1.24.3\n",
       "oauthlib==3.2.2\n",
       "opt-einsum==3.3.0\n",
       "packaging==23.1\n",
       "pandas==2.0.3\n",
       "pandocfilters==1.5.0\n",
       "parso==0.8.3\n",
       "pathtools==0.1.2\n",
       "pexpect==4.8.0\n",
       "pickleshare==0.7.5\n",
       "pillow==9.4.0\n",
       "pip==23.0.1\n",
       "platformdirs==2.5.2\n",
       "profane==0.0.1\n",
       "prompt-toolkit==3.0.38\n",
       "protobuf==4.22.3\n",
       "psutil==5.9.0\n",
       "ptyprocess==0.7.0\n",
       "pure-eval==0.2.2\n",
       "py-cpuinfo==9.0.0\n",
       "pyasn1-modules==0.3.0\n",
       "pyasn1==0.5.0\n",
       "pycparser==2.21\n",
       "pydantic==1.10.9\n",
       "pygments==2.15.1\n",
       "pyopenssl==23.0.0\n",
       "pyparsing==3.0.9\n",
       "pyre-extensions==0.0.30\n",
       "pysocks==1.7.1\n",
       "python-dateutil==2.8.2\n",
       "pytz==2023.3\n",
       "pyyaml==6.0\n",
       "pyzmq==25.1.0\n",
       "referencing==0.30.2\n",
       "requests-oauthlib==1.3.1\n",
       "requests==2.29.0\n",
       "rpds-py==0.9.2\n",
       "rsa==4.9\n",
       "seaborn==0.12.2\n",
       "sentry-sdk==1.21.1\n",
       "setproctitle==1.3.2\n",
       "setuptools==66.0.0\n",
       "six==1.16.0\n",
       "smmap==5.0.0\n",
       "soupsieve==2.4.1\n",
       "stack-data==0.6.2\n",
       "sympy==1.11.1\n",
       "tensorboard-data-server==0.7.1\n",
       "tensorboard==2.13.0\n",
       "tinycss2==1.2.1\n",
       "torch==2.1.0.dev20230428\n",
       "torchaudio==2.1.0.dev20230428\n",
       "torcheval==0.0.6\n",
       "torchtnt==0.1.0\n",
       "torchvision==0.16.0.dev20230428\n",
       "tornado==6.2\n",
       "tqdm==4.65.0\n",
       "traitlets==5.9.0\n",
       "typing-extensions==4.5.0\n",
       "typing-inspect==0.9.0\n",
       "tzdata==2023.3\n",
       "urllib3==1.26.15\n",
       "wandb==0.15.7\n",
       "wcwidth==0.2.6\n",
       "webencodings==0.5.1\n",
       "werkzeug==2.3.6\n",
       "wheel==0.38.4\n",
       "x-transformers==1.16.9\n",
       "zipp==3.15.0\n",
       "```"
      ],
      "text/plain": [
       "<IPython.core.display.Markdown object>"
      ]
     },
     "metadata": {},
     "output_type": "display_data"
    },
    {
     "data": {
      "text/markdown": [
       "### git.status"
      ],
      "text/plain": [
       "<IPython.core.display.Markdown object>"
      ]
     },
     "metadata": {},
     "output_type": "display_data"
    },
    {
     "data": {
      "text/markdown": [
       "```python\n",
       "On branch main\n",
       "Your branch is up to date with 'origin/main'.\n",
       "\n",
       "Changes not staged for commit:\n",
       "  (use \"git add <file>...\" to update what will be committed)\n",
       "  (use \"git restore <file>...\" to discard changes in working directory)\n",
       "\tmodified:   main.py\n",
       "\n",
       "Untracked files:\n",
       "  (use \"git add <file>...\" to include in what will be committed)\n",
       "\twandb/\n",
       "\n",
       "no changes added to commit (use \"git add\" and/or \"git commit -a\")\n",
       "\n",
       "```"
      ],
      "text/plain": [
       "<IPython.core.display.Markdown object>"
      ]
     },
     "metadata": {},
     "output_type": "display_data"
    },
    {
     "data": {
      "text/markdown": [
       "### config.json"
      ],
      "text/plain": [
       "<IPython.core.display.Markdown object>"
      ]
     },
     "metadata": {},
     "output_type": "display_data"
    },
    {
     "data": {
      "text/markdown": [
       "```python\n",
       "{\n",
       "    \"batch_size\": 64,\n",
       "    \"dry_run\": false,\n",
       "    \"epochs\": 14,\n",
       "    \"gamma\": 0.7,\n",
       "    \"log_interval\": 10,\n",
       "    \"lr\": 1.0,\n",
       "    \"no_cuda\": false,\n",
       "    \"no_mps\": false,\n",
       "    \"save_model\": false,\n",
       "    \"seed\": 1,\n",
       "    \"test_batch_size\": 1000\n",
       "}\n",
       "```"
      ],
      "text/plain": [
       "<IPython.core.display.Markdown object>"
      ]
     },
     "metadata": {},
     "output_type": "display_data"
    },
    {
     "data": {
      "text/markdown": [
       "### output.log"
      ],
      "text/plain": [
       "<IPython.core.display.Markdown object>"
      ]
     },
     "metadata": {},
     "output_type": "display_data"
    },
    {
     "data": {
      "text/markdown": [
       "```python\n",
       "Train Epoch: 1 [0/60000 (0%)]\tLoss: 2.300024\n",
       "Train Epoch: 1 [640/60000 (1%)]\tLoss: 1.141236\n",
       "Train Epoch: 1 [1280/60000 (2%)]\tLoss: 0.711558\n",
       "Train Epoch: 1 [1920/60000 (3%)]\tLoss: 0.534700\n",
       "Train Epoch: 1 [2560/60000 (4%)]\tLoss: 0.394732\n",
       "Train Epoch: 1 [3200/60000 (5%)]\tLoss: 0.266415\n",
       "Train Epoch: 1 [3840/60000 (6%)]\tLoss: 0.233061\n",
       "Train Epoch: 1 [4480/60000 (7%)]\tLoss: 0.214440\n",
       "Train Epoch: 1 [5120/60000 (9%)]\tLoss: 0.619316\n",
       "Train Epoch: 1 [5760/60000 (10%)]\tLoss: 0.206452\n",
       "Train Epoch: 1 [6400/60000 (11%)]\tLoss: 0.418914\n",
       "Train Epoch: 1 [7040/60000 (12%)]\tLoss: 0.228332\n",
       "Train Epoch: 1 [7680/60000 (13%)]\tLoss: 0.176347\n",
       "Train Epoch: 1 [8320/60000 (14%)]\tLoss: 0.153546\n",
       "Train Epoch: 1 [8960/60000 (15%)]\tLoss: 0.230625\n",
       "Train Epoch: 1 [9600/60000 (16%)]\tLoss: 0.181143\n",
       "Train Epoch: 1 [10240/60000 (17%)]\tLoss: 0.361177\n",
       "Train Epoch: 1 [10880/60000 (18%)]\tLoss: 0.189232\n",
       "Train Epoch: 1 [11520/60000 (19%)]\tLoss: 0.392473\n",
       "Train Epoch: 1 [12160/60000 (20%)]\tLoss: 0.177749\n",
       "Train Epoch: 1 [12800/60000 (21%)]\tLoss: 0.197366\n",
       "Train Epoch: 1 [13440/60000 (22%)]\tLoss: 0.145951\n",
       "Train Epoch: 1 [14080/60000 (23%)]\tLoss: 0.208425\n",
       "Train Epoch: 1 [14720/60000 (25%)]\tLoss: 0.462393\n",
       "Train Epoch: 1 [15360/60000 (26%)]\tLoss: 0.154787\n",
       "Train Epoch: 1 [16000/60000 (27%)]\tLoss: 0.223398\n",
       "Train Epoch: 1 [16640/60000 (28%)]\tLoss: 0.088585\n",
       "Train Epoch: 1 [17280/60000 (29%)]\tLoss: 0.105454\n",
       "Train Epoch: 1 [17920/60000 (30%)]\tLoss: 0.161331\n",
       "Train Epoch: 1 [18560/60000 (31%)]\tLoss: 0.302365\n",
       "Train Epoch: 1 [19200/60000 (32%)]\tLoss: 0.151357\n",
       "Train Epoch: 1 [19840/60000 (33%)]\tLoss: 0.180794\n",
       "Train Epoch: 1 [20480/60000 (34%)]\tLoss: 0.029116\n",
       "Train Epoch: 1 [21120/60000 (35%)]\tLoss: 0.204436\n",
       "Train Epoch: 1 [21760/60000 (36%)]\tLoss: 0.048799\n",
       "Train Epoch: 1 [22400/60000 (37%)]\tLoss: 0.123405\n",
       "Train Epoch: 1 [23040/60000 (38%)]\tLoss: 0.158138\n",
       "Train Epoch: 1 [23680/60000 (39%)]\tLoss: 0.224575\n",
       "Train Epoch: 1 [24320/60000 (41%)]\tLoss: 0.062561\n",
       "Train Epoch: 1 [24960/60000 (42%)]\tLoss: 0.106391\n",
       "Train Epoch: 1 [25600/60000 (43%)]\tLoss: 0.162630\n",
       "Train Epoch: 1 [26240/60000 (44%)]\tLoss: 0.120360\n",
       "Train Epoch: 1 [26880/60000 (45%)]\tLoss: 0.299113\n",
       "Train Epoch: 1 [27520/60000 (46%)]\tLoss: 0.204707\n",
       "Train Epoch: 1 [28160/60000 (47%)]\tLoss: 0.064838\n",
       "Train Epoch: 1 [28800/60000 (48%)]\tLoss: 0.084399\n",
       "Train Epoch: 1 [29440/60000 (49%)]\tLoss: 0.068435\n",
       "Train Epoch: 1 [30080/60000 (50%)]\tLoss: 0.054200\n",
       "Train Epoch: 1 [30720/60000 (51%)]\tLoss: 0.083719\n",
       "Train Epoch: 1 [31360/60000 (52%)]\tLoss: 0.057806\n",
       "Train Epoch: 1 [32000/60000 (53%)]\tLoss: 0.168371\n",
       "Train Epoch: 1 [32640/60000 (54%)]\tLoss: 0.103747\n",
       "Train Epoch: 1 [33280/60000 (55%)]\tLoss: 0.143636\n",
       "Train Epoch: 1 [33920/60000 (57%)]\tLoss: 0.073810\n",
       "Train Epoch: 1 [34560/60000 (58%)]\tLoss: 0.071079\n",
       "Train Epoch: 1 [35200/60000 (59%)]\tLoss: 0.096664\n",
       "Train Epoch: 1 [35840/60000 (60%)]\tLoss: 0.180809\n",
       "Train Epoch: 1 [36480/60000 (61%)]\tLoss: 0.078782\n",
       "Train Epoch: 1 [37120/60000 (62%)]\tLoss: 0.085670\n",
       "Train Epoch: 1 [37760/60000 (63%)]\tLoss: 0.237285\n",
       "Train Epoch: 1 [38400/60000 (64%)]\tLoss: 0.171452\n",
       "Train Epoch: 1 [39040/60000 (65%)]\tLoss: 0.016421\n",
       "Train Epoch: 1 [39680/60000 (66%)]\tLoss: 0.039804\n",
       "Train Epoch: 1 [40320/60000 (67%)]\tLoss: 0.123339\n",
       "Train Epoch: 1 [40960/60000 (68%)]\tLoss: 0.179846\n",
       "Train Epoch: 1 [41600/60000 (69%)]\tLoss: 0.050442\n",
       "Train Epoch: 1 [42240/60000 (70%)]\tLoss: 0.017428\n",
       "Train Epoch: 1 [42880/60000 (71%)]\tLoss: 0.173062\n",
       "Train Epoch: 1 [43520/60000 (72%)]\tLoss: 0.182993\n",
       "Train Epoch: 1 [44160/60000 (74%)]\tLoss: 0.013076\n",
       "Train Epoch: 1 [44800/60000 (75%)]\tLoss: 0.178473\n",
       "Train Epoch: 1 [45440/60000 (76%)]\tLoss: 0.167469\n",
       "Train Epoch: 1 [46080/60000 (77%)]\tLoss: 0.169292\n",
       "Train Epoch: 1 [46720/60000 (78%)]\tLoss: 0.224109\n",
       "Train Epoch: 1 [47360/60000 (79%)]\tLoss: 0.088818\n",
       "Train Epoch: 1 [48000/60000 (80%)]\tLoss: 0.144786\n",
       "Train Epoch: 1 [48640/60000 (81%)]\tLoss: 0.038873\n",
       "Train Epoch: 1 [49280/60000 (82%)]\tLoss: 0.030595\n",
       "Train Epoch: 1 [49920/60000 (83%)]\tLoss: 0.070011\n",
       "Train Epoch: 1 [50560/60000 (84%)]\tLoss: 0.124998\n",
       "Train Epoch: 1 [51200/60000 (85%)]\tLoss: 0.224721\n",
       "Train Epoch: 1 [51840/60000 (86%)]\tLoss: 0.066481\n",
       "Train Epoch: 1 [52480/60000 (87%)]\tLoss: 0.028962\n",
       "Train Epoch: 1 [53120/60000 (88%)]\tLoss: 0.203254\n",
       "Train Epoch: 1 [53760/60000 (90%)]\tLoss: 0.151286\n",
       "Train Epoch: 1 [54400/60000 (91%)]\tLoss: 0.035127\n",
       "Train Epoch: 1 [55040/60000 (92%)]\tLoss: 0.032851\n",
       "Train Epoch: 1 [55680/60000 (93%)]\tLoss: 0.188284\n",
       "Train Epoch: 1 [56320/60000 (94%)]\tLoss: 0.036238\n",
       "Train Epoch: 1 [56960/60000 (95%)]\tLoss: 0.046339\n",
       "Train Epoch: 1 [57600/60000 (96%)]\tLoss: 0.106009\n",
       "Train Epoch: 1 [58240/60000 (97%)]\tLoss: 0.072917\n",
       "Train Epoch: 1 [58880/60000 (98%)]\tLoss: 0.001254\n",
       "Train Epoch: 1 [59520/60000 (99%)]\tLoss: 0.013900\n",
       "\n",
       "Test set: Average loss: 0.0484, Accuracy: 9838/10000 (98%)\n",
       "\n",
       "Train Epoch: 2 [0/60000 (0%)]\tLoss: 0.060924\n",
       "Train Epoch: 2 [640/60000 (1%)]\tLoss: 0.057691\n",
       "Train Epoch: 2 [1280/60000 (2%)]\tLoss: 0.056489\n",
       "Train Epoch: 2 [1920/60000 (3%)]\tLoss: 0.083914\n",
       "Train Epoch: 2 [2560/60000 (4%)]\tLoss: 0.086739\n",
       "Train Epoch: 2 [3200/60000 (5%)]\tLoss: 0.029744\n",
       "Train Epoch: 2 [3840/60000 (6%)]\tLoss: 0.035730\n",
       "Traceback (most recent call last):\n",
       "  File \"/Users/gngdb/ws/pytorch_examples/mnist/main.py\", line 149, in <module>\n",
       "    main()\n",
       "  File \"/Users/gngdb/ws/pytorch_examples/mnist/main.py\", line 140, in main\n",
       "    train(args, model, device, train_loader, optimizer, epoch)\n",
       "  File \"/Users/gngdb/ws/pytorch_examples/mnist/main.py\", line 45, in train\n",
       "    optimizer.step()\n",
       "  File \"/opt/homebrew/Caskroom/miniconda/base/envs/torch_nightly/lib/python3.11/site-packages/torch/optim/lr_scheduler.py\", line 69, in wrapper\n",
       "    return wrapped(*args, **kwargs)\n",
       "           ^^^^^^^^^^^^^^^^^^^^^^^^\n",
       "  File \"/opt/homebrew/Caskroom/miniconda/base/envs/torch_nightly/lib/python3.11/site-packages/torch/optim/optimizer.py\", line 280, in wrapper\n",
       "    out = func(*args, **kwargs)\n",
       "          ^^^^^^^^^^^^^^^^^^^^^\n",
       "  File \"/opt/homebrew/Caskroom/miniconda/base/envs/torch_nightly/lib/python3.11/site-packages/torch/optim/optimizer.py\", line 33, in _use_grad\n",
       "    ret = func(self, *args, **kwargs)\n",
       "          ^^^^^^^^^^^^^^^^^^^^^^^^^^^\n",
       "  File \"/opt/homebrew/Caskroom/miniconda/base/envs/torch_nightly/lib/python3.11/site-packages/torch/optim/adadelta.py\", line 108, in step\n",
       "    adadelta(\n",
       "  File \"/opt/homebrew/Caskroom/miniconda/base/envs/torch_nightly/lib/python3.11/site-packages/torch/optim/adadelta.py\", line 206, in adadelta\n",
       "    func(\n",
       "  File \"/opt/homebrew/Caskroom/miniconda/base/envs/torch_nightly/lib/python3.11/site-packages/torch/optim/adadelta.py\", line 253, in _single_tensor_adadelta\n",
       "    acc_delta.mul_(rho).addcmul_(delta, delta, value=1 - rho)\n",
       "KeyboardInterrupt\n",
       "\n",
       "```"
      ],
      "text/plain": [
       "<IPython.core.display.Markdown object>"
      ]
     },
     "metadata": {},
     "output_type": "display_data"
    },
    {
     "data": {
      "text/markdown": [
       "### wandb-summary.json"
      ],
      "text/plain": [
       "<IPython.core.display.Markdown object>"
      ]
     },
     "metadata": {},
     "output_type": "display_data"
    },
    {
     "data": {
      "text/markdown": [
       "```python\n",
       "{\"_wandb\": {\"runtime\": 13}}\n",
       "```"
      ],
      "text/plain": [
       "<IPython.core.display.Markdown object>"
      ]
     },
     "metadata": {},
     "output_type": "display_data"
    },
    {
     "data": {
      "text/markdown": [
       "### argv.txt"
      ],
      "text/plain": [
       "<IPython.core.display.Markdown object>"
      ]
     },
     "metadata": {},
     "output_type": "display_data"
    },
    {
     "data": {
      "text/markdown": [
       "```python\n",
       "main.py\n",
       "```"
      ],
      "text/plain": [
       "<IPython.core.display.Markdown object>"
      ]
     },
     "metadata": {},
     "output_type": "display_data"
    },
    {
     "data": {
      "text/markdown": [
       "### conda-environment.yaml"
      ],
      "text/plain": [
       "<IPython.core.display.Markdown object>"
      ]
     },
     "metadata": {},
     "output_type": "display_data"
    },
    {
     "data": {
      "text/markdown": [
       "```python\n",
       "name: torch_nightly\n",
       "channels:\n",
       "  - pytorch-nightly\n",
       "  - conda-forge\n",
       "  - defaults\n",
       "dependencies:\n",
       "  - appnope=0.1.3=pyhd8ed1ab_0\n",
       "  - asttokens=2.2.1=pyhd8ed1ab_0\n",
       "  - backcall=0.2.0=pyh9f0ad1d_0\n",
       "  - backports=1.0=pyhd8ed1ab_3\n",
       "  - backports.functools_lru_cache=1.6.4=pyhd8ed1ab_0\n",
       "  - blas=1.0=openblas\n",
       "  - brotli=1.0.9=h1a28f6b_7\n",
       "  - brotli-bin=1.0.9=h1a28f6b_7\n",
       "  - brotlipy=0.7.0=py311h80987f9_1002\n",
       "  - bzip2=1.0.8=h620ffc9_4\n",
       "  - ca-certificates=2023.05.30=hca03da5_0\n",
       "  - certifi=2023.5.7=py311hca03da5_0\n",
       "  - cffi=1.15.1=py311h80987f9_3\n",
       "  - charset-normalizer=2.0.4=pyhd3eb1b0_0\n",
       "  - contourpy=1.0.5=py311h48ca7d4_0\n",
       "  - cryptography=39.0.1=py311h834c97f_0\n",
       "  - cycler=0.11.0=pyhd3eb1b0_0\n",
       "  - debugpy=1.5.1=py311h313beb8_0\n",
       "  - decorator=5.1.1=pyhd8ed1ab_0\n",
       "  - executing=1.2.0=pyhd8ed1ab_0\n",
       "  - ffmpeg=4.2.2=h04105a8_0\n",
       "  - filelock=3.9.0=py311hca03da5_0\n",
       "  - fonttools=4.25.0=pyhd3eb1b0_0\n",
       "  - freetype=2.12.1=h1192e45_0\n",
       "  - gettext=0.21.0=h13f89a0_1\n",
       "  - giflib=5.2.1=h80987f9_3\n",
       "  - gmp=6.2.1=hc377ac9_3\n",
       "  - gmpy2=2.1.2=py311h40f64dc_0\n",
       "  - gnutls=3.6.15=h887c41c_0\n",
       "  - icu=68.1=hc377ac9_0\n",
       "  - idna=3.4=py311hca03da5_0\n",
       "  - importlib-metadata=6.6.0=pyha770c72_0\n",
       "  - importlib_metadata=6.6.0=hd8ed1ab_0\n",
       "  - ipykernel=6.15.0=pyh736e0ef_0\n",
       "  - ipython=8.14.0=pyhd1c38e8_0\n",
       "  - jedi=0.18.2=pyhd8ed1ab_0\n",
       "  - jpeg=9e=h80987f9_1\n",
       "  - jupyter_client=8.2.0=pyhd8ed1ab_0\n",
       "  - jupyter_core=5.3.0=py311hca03da5_0\n",
       "  - kiwisolver=1.4.4=py311h313beb8_0\n",
       "  - lame=3.100=h1a28f6b_0\n",
       "  - lcms2=2.12=hba8e193_0\n",
       "  - lerc=3.0=hc377ac9_0\n",
       "  - libbrotlicommon=1.0.9=h1a28f6b_7\n",
       "  - libbrotlidec=1.0.9=h1a28f6b_7\n",
       "  - libbrotlienc=1.0.9=h1a28f6b_7\n",
       "  - libcxx=14.0.6=h848a8c0_0\n",
       "  - libdeflate=1.17=h80987f9_0\n",
       "  - libffi=3.4.2=hca03da5_6\n",
       "  - libgfortran=5.0.0=11_3_0_hca03da5_28\n",
       "  - libgfortran5=11.3.0=h009349e_28\n",
       "  - libiconv=1.16=h1a28f6b_2\n",
       "  - libidn2=2.3.1=h1a28f6b_0\n",
       "  - libopenblas=0.3.21=h269037a_0\n",
       "  - libopus=1.3=h1a28f6b_1\n",
       "  - libpng=1.6.39=h80987f9_0\n",
       "  - libsodium=1.0.18=h27ca646_1\n",
       "  - libtasn1=4.19.0=h80987f9_0\n",
       "  - libtiff=4.5.0=h313beb8_2\n",
       "  - libunistring=0.9.10=h1a28f6b_0\n",
       "  - libvpx=1.10.0=hc377ac9_0\n",
       "  - libwebp=1.2.4=ha3663a8_1\n",
       "  - libwebp-base=1.2.4=h80987f9_1\n",
       "  - libxml2=2.10.3=h372ba2a_0\n",
       "  - llvm-openmp=14.0.6=hc6e5704_0\n",
       "  - lz4-c=1.9.4=h313beb8_0\n",
       "  - matplotlib=3.7.1=py311hca03da5_1\n",
       "  - matplotlib-base=3.7.1=py311h7aedaa7_1\n",
       "  - matplotlib-inline=0.1.6=pyhd8ed1ab_0\n",
       "  - mpc=1.1.0=h8c48613_1\n",
       "  - mpfr=4.0.2=h695f6f0_1\n",
       "  - mpmath=1.2.1=py311hca03da5_0\n",
       "  - munkres=1.1.4=py_0\n",
       "  - ncurses=6.4=h313beb8_0\n",
       "  - nest-asyncio=1.5.6=pyhd8ed1ab_0\n",
       "  - nettle=3.7.3=h84b5d62_1\n",
       "  - networkx=2.8.4=py311hca03da5_1\n",
       "  - numpy=1.24.3=py311hb57d4eb_0\n",
       "  - numpy-base=1.24.3=py311h1d85a46_0\n",
       "  - openh264=1.8.0=h98b2900_0\n",
       "  - openssl=1.1.1u=h1a28f6b_0\n",
       "  - packaging=23.1=pyhd8ed1ab_0\n",
       "  - parso=0.8.3=pyhd8ed1ab_0\n",
       "  - pexpect=4.8.0=pyh1a96a4e_2\n",
       "  - pickleshare=0.7.5=py_1003\n",
       "  - pillow=9.4.0=py311h313beb8_0\n",
       "  - pip=23.0.1=py311hca03da5_0\n",
       "  - platformdirs=2.5.2=py311hca03da5_0\n",
       "  - prompt-toolkit=3.0.38=pyha770c72_0\n",
       "  - prompt_toolkit=3.0.38=hd8ed1ab_0\n",
       "  - ptyprocess=0.7.0=pyhd3deb0d_0\n",
       "  - pure_eval=0.2.2=pyhd8ed1ab_0\n",
       "  - pycparser=2.21=pyhd3eb1b0_0\n",
       "  - pygments=2.15.1=pyhd8ed1ab_0\n",
       "  - pyopenssl=23.0.0=py311hca03da5_0\n",
       "  - pyparsing=3.0.9=py311hca03da5_0\n",
       "  - pysocks=1.7.1=py311hca03da5_0\n",
       "  - python=3.11.3=hc0d8a6c_0\n",
       "  - python-dateutil=2.8.2=pyhd8ed1ab_0\n",
       "  - pytorch=2.1.0.dev20230428=py3.11_0\n",
       "  - pyzmq=25.1.0=py311h313beb8_0\n",
       "  - readline=8.2=h1a28f6b_0\n",
       "  - requests=2.29.0=py311hca03da5_0\n",
       "  - setuptools=66.0.0=py311hca03da5_0\n",
       "  - six=1.16.0=pyh6c4a22f_0\n",
       "  - sqlite=3.41.2=h80987f9_0\n",
       "  - stack_data=0.6.2=pyhd8ed1ab_0\n",
       "  - sympy=1.11.1=py311hca03da5_0\n",
       "  - tk=8.6.12=hb8d0fd4_0\n",
       "  - torchaudio=2.1.0.dev20230428=py311_cpu\n",
       "  - torchvision=0.16.0.dev20230428=py311_cpu\n",
       "  - tornado=6.2=py311h80987f9_0\n",
       "  - traitlets=5.9.0=pyhd8ed1ab_0\n",
       "  - typing_extensions=4.5.0=py311hca03da5_0\n",
       "  - urllib3=1.26.15=py311hca03da5_0\n",
       "  - wcwidth=0.2.6=pyhd8ed1ab_0\n",
       "  - wheel=0.38.4=py311hca03da5_0\n",
       "  - x264=1!152.20180806=h1a28f6b_0\n",
       "  - xz=5.2.10=h80987f9_1\n",
       "  - zeromq=4.3.4=hbdafb3b_1\n",
       "  - zipp=3.15.0=pyhd8ed1ab_0\n",
       "  - zlib=1.2.13=h5a0b063_0\n",
       "  - zstd=1.5.5=hd90d995_0\n",
       "  - pip:\n",
       "      - absl-py==1.4.0\n",
       "      - appdirs==1.4.4\n",
       "      - attrs==23.1.0\n",
       "      - beautifulsoup4==4.12.2\n",
       "      - bleach==6.0.0\n",
       "      - cachetools==5.3.1\n",
       "      - click==8.1.3\n",
       "      - dahuffman==0.4.1\n",
       "      - defusedxml==0.7.1\n",
       "      - dill==0.3.6\n",
       "      - docker-pycreds==0.4.0\n",
       "      - einops==0.6.1\n",
       "      - fastjsonschema==2.18.0\n",
       "      - fsspec==2023.6.0\n",
       "      - gitdb==4.0.10\n",
       "      - gitpython==3.1.31\n",
       "      - google-auth==2.21.0\n",
       "      - google-auth-oauthlib==1.0.0\n",
       "      - grpcio==1.56.0\n",
       "      - hjson==3.1.0\n",
       "      - jinja2==3.1.2\n",
       "      - jsonschema==4.19.0\n",
       "      - jsonschema-specifications==2023.7.1\n",
       "      - jupyterlab-pygments==0.2.2\n",
       "      - markdown==3.4.3\n",
       "      - markupsafe==2.1.3\n",
       "      - mistune==3.0.1\n",
       "      - mypy-extensions==1.0.0\n",
       "      - nbclient==0.8.0\n",
       "      - nbconvert==7.7.4\n",
       "      - nbformat==5.9.2\n",
       "      - ninja==1.11.1\n",
       "      - oauthlib==3.2.2\n",
       "      - opt-einsum==3.3.0\n",
       "      - pandas==2.0.3\n",
       "      - pandocfilters==1.5.0\n",
       "      - pathtools==0.1.2\n",
       "      - protobuf==4.22.3\n",
       "      - psutil==5.9.5\n",
       "      - py-cpuinfo==9.0.0\n",
       "      - pyasn1==0.5.0\n",
       "      - pyasn1-modules==0.3.0\n",
       "      - pydantic==1.10.9\n",
       "      - pyre-extensions==0.0.30\n",
       "      - pytz==2023.3\n",
       "      - pyyaml==6.0\n",
       "      - referencing==0.30.2\n",
       "      - requests-oauthlib==1.3.1\n",
       "      - rpds-py==0.9.2\n",
       "      - rsa==4.9\n",
       "      - seaborn==0.12.2\n",
       "      - sentry-sdk==1.21.1\n",
       "      - setproctitle==1.3.2\n",
       "      - smmap==5.0.0\n",
       "      - soupsieve==2.4.1\n",
       "      - tensorboard==2.13.0\n",
       "      - tensorboard-data-server==0.7.1\n",
       "      - tinycss2==1.2.1\n",
       "      - torcheval==0.0.6\n",
       "      - torchtnt==0.1.0\n",
       "      - tqdm==4.65.0\n",
       "      - typing-inspect==0.9.0\n",
       "      - tzdata==2023.3\n",
       "      - wandb==0.15.7\n",
       "      - webencodings==0.5.1\n",
       "      - werkzeug==2.3.6\n",
       "      - x-transformers==1.16.9\n",
       "prefix: /opt/homebrew/Caskroom/miniconda/base/envs/torch_nightly\n",
       "\n",
       "```"
      ],
      "text/plain": [
       "<IPython.core.display.Markdown object>"
      ]
     },
     "metadata": {},
     "output_type": "display_data"
    },
    {
     "data": {
      "text/markdown": [
       "### system_stats.csv"
      ],
      "text/plain": [
       "<IPython.core.display.Markdown object>"
      ]
     },
     "metadata": {},
     "output_type": "display_data"
    },
    {
     "data": {
      "text/markdown": [
       "```python\n",
       "relative_seconds, gpu.0.gpu, gpu.0.memoryAllocated, gpu.0.temp, gpu.0.powerWatts, gpu.0.powerPercent, proc.memory.availableMB, memory, proc.memory.rssMB, proc.memory.percent, cpu, cpu.0.cpu_percent, cpu.1.cpu_percent, cpu.2.cpu_percent, cpu.3.cpu_percent, cpu.4.cpu_percent, cpu.5.cpu_percent, cpu.6.cpu_percent, cpu.7.cpu_percent, cpu.8.cpu_percent, cpu.9.cpu_percent, proc.cpu.threads, network.sent, network.recv, disk\n",
       "0, 74.6, 31.54, 34.14, 6.37, 38.63, 3455.99, 78.9, 386.97, 2.36, 7.22, 29.36, 28.97, 55.53, 31.24, 13.1, 9.1, 5.21, 1.36, 0.71, 0.5, 15, 27940.57, 164717.71, 9.3\n",
       "```"
      ],
      "text/plain": [
       "<IPython.core.display.Markdown object>"
      ]
     },
     "metadata": {},
     "output_type": "display_data"
    },
    {
     "data": {
      "text/markdown": [
       "### wandb-metadata.json"
      ],
      "text/plain": [
       "<IPython.core.display.Markdown object>"
      ]
     },
     "metadata": {},
     "output_type": "display_data"
    },
    {
     "data": {
      "text/markdown": [
       "```python\n",
       "{\n",
       "    \"os\": \"macOS-13.5.1-arm64-arm-64bit\",\n",
       "    \"python\": \"3.11.3\",\n",
       "    \"heartbeatAt\": \"2023-09-08T20:10:04.564308\",\n",
       "    \"startedAt\": \"2023-09-08T20:10:04.524040\",\n",
       "    \"docker\": null,\n",
       "    \"cuda\": null,\n",
       "    \"args\": [],\n",
       "    \"state\": \"running\",\n",
       "    \"program\": \"/Users/gngdb/ws/pytorch_examples/mnist/main.py\",\n",
       "    \"codePath\": \"mnist/main.py\",\n",
       "    \"git\": {\n",
       "        \"remote\": \"git@github.com:pytorch/examples.git\",\n",
       "        \"commit\": \"cead596caa90600188e1055cd9166ab4e7dfd303\"\n",
       "    },\n",
       "    \"email\": \"***REMOVED***\",\n",
       "    \"root\": \"/Users/gngdb/ws/pytorch_examples\",\n",
       "    \"host\": \"Gavias-MacBook-Pro.local\",\n",
       "    \"username\": \"gngdb\",\n",
       "    \"executable\": \"/opt/homebrew/Caskroom/miniconda/base/envs/torch_nightly/bin/python\",\n",
       "    \"cpu_count\": 10,\n",
       "    \"cpu_count_logical\": 10,\n",
       "    \"disk\": {\n",
       "        \"total\": 926.3517189025879,\n",
       "        \"used\": 86.2264518737793\n",
       "    },\n",
       "    \"gpuapple\": {\n",
       "        \"type\": \"arm\",\n",
       "        \"vendor\": \"Apple\"\n",
       "    },\n",
       "    \"memory\": {\n",
       "        \"total\": 16.0\n",
       "    }\n",
       "}\n",
       "\n",
       "```"
      ],
      "text/plain": [
       "<IPython.core.display.Markdown object>"
      ]
     },
     "metadata": {},
     "output_type": "display_data"
    },
    {
     "data": {
      "text/markdown": [
       "### git.patch"
      ],
      "text/plain": [
       "<IPython.core.display.Markdown object>"
      ]
     },
     "metadata": {},
     "output_type": "display_data"
    },
    {
     "data": {
      "text/markdown": [
       "```python\n",
       "diff --git a/mnist/main.py b/mnist/main.py\n",
       "index 29d81d6..a95afa2 100644\n",
       "--- a/mnist/main.py\n",
       "+++ b/mnist/main.py\n",
       "@@ -99,6 +99,10 @@ def main():\n",
       "     use_cuda = not args.no_cuda and torch.cuda.is_available()\n",
       "     use_mps = not args.no_mps and torch.backends.mps.is_available()\n",
       " \n",
       "+    from profane.core import init\n",
       "+\n",
       "+    init(config=vars(args), project='mnist')\n",
       "+\n",
       "     torch.manual_seed(args.seed)\n",
       " \n",
       "     if use_cuda:\n",
       "\n",
       "```"
      ],
      "text/plain": [
       "<IPython.core.display.Markdown object>"
      ]
     },
     "metadata": {},
     "output_type": "display_data"
    }
   ],
   "source": [
    "from IPython.display import Markdown, display\n",
    "\n",
    "for file in log_path.iterdir():\n",
    "    if file.is_file():\n",
    "        with open(file, 'r') as f:\n",
    "            contents = f.read()\n",
    "        display(Markdown(f\"### {file.name}\"))\n",
    "        display(Markdown(f\"```python\\n{contents}\\n```\"))\n"
   ]
  }
 ],
 "metadata": {
  "kernelspec": {
   "display_name": "python3",
   "language": "python",
   "name": "python3"
  }
 },
 "nbformat": 4,
 "nbformat_minor": 4
}
