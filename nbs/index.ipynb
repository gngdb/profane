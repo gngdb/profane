{
 "cells": [
  {
   "cell_type": "code",
   "execution_count": null,
   "metadata": {},
   "outputs": [],
   "source": [
    "#| hide\n",
    "from profane.core import *"
   ]
  },
  {
   "cell_type": "markdown",
   "metadata": {},
   "source": [
    "# profane\n",
    "\n",
    "> Not sacred"
   ]
  },
  {
   "cell_type": "markdown",
   "metadata": {},
   "source": [
    "A hacky substitute for [sacred][], logging where, when and what experiment was run. It doesn't manage config variables, it is *only* for recording what happened.\n",
    "\n",
    "It's a wrapper for [weights & biases][wandb] so I don't have to write my own terminal output capture solution. It just gets captured the same way it would be if I was looking at it in the `wandb` dashboard.\n",
    "\n",
    "This also means that the interface is the same as using `wandb`:\n",
    "\n",
    "```\n",
    "from profane.core import init\n",
    "\n",
    "# somewhere in your script before you start your experiment:\n",
    "init(\n",
    "    project='my_project'\n",
    ")\n",
    "```\n",
    "\n",
    "All kwargs are passed to `wandb` but `wandb` is always run offline.\n",
    "\n",
    "The difference from `wandb` is that when the run finishes the logs are copied to two locations:\n",
    "\n",
    "* `local`: a local directory where **everything** captured gets saved\n",
    "* `shared`: a shared directory (like a git repo) where only the metadata and terminal logs get saved\n",
    "\n",
    "Information about every run is saved and the logs are saved, nothing is lost, and if I need to get more detail I can go look at the `local` directory and find detailed information.\n",
    "\n",
    "To do:\n",
    "\n",
    "* test with a little experiment\n",
    "* write where the output is saved\n",
    "* add the date and time to the name\n",
    "\n",
    "[sacred]: https://github.com/IDSIA/sacred\n",
    "[wandb]: https://github.com/wandb/wandb"
   ]
  },
  {
   "cell_type": "markdown",
   "metadata": {},
   "source": [
    "## Install\n",
    "\n",
    "I haven't put it on pypi yet so a dev install is recommended:"
   ]
  },
  {
   "cell_type": "markdown",
   "metadata": {},
   "source": [
    "```sh\n",
    "git clone git@github.com:gngdb/profane.git\n",
    "cd profane\n",
    "pip install -e .\n",
    "```"
   ]
  },
  {
   "cell_type": "markdown",
   "metadata": {},
   "source": [
    "## How to use"
   ]
  },
  {
   "cell_type": "markdown",
   "metadata": {},
   "source": [
    "Before using `profane` run setup to set `local` and `shared` storage:"
   ]
  },
  {
   "cell_type": "code",
   "execution_count": null,
   "metadata": {},
   "outputs": [
    {
     "name": "stdout",
     "output_type": "stream",
     "text": [
      "usage: Set up a ~/.profanerc file and register the required directories.\n",
      "       [-h] [--user USER] local_storage shared_storage\n",
      "\n",
      "positional arguments:\n",
      "  local_storage   The local storage directory, everything will be stored here.\n",
      "  shared_storage  The shared storage directory, only the terminal logs and\n",
      "                  metadata will be stored here.\n",
      "\n",
      "options:\n",
      "  -h, --help      show this help message and exit\n",
      "  --user USER     Optional: The user name to use for the shared storage\n",
      "                  directory.\n"
     ]
    }
   ],
   "source": [
    "!profane_setup --help"
   ]
  },
  {
   "cell_type": "markdown",
   "metadata": {},
   "source": [
    "Then, as described above, `profane.core.init` can be used in place of [`wandb.init`](https://docs.wandb.ai/ref/python/init), all `kwargs` are passed to `wandb.init`. The only difference is the results are saved in the directories listed above.\n",
    "\n",
    "In addition, profane kwargs may be provided prefixed by `profane_`. Currently, this includes:\n",
    "\n",
    "* `profane_save` a list of paths to plaintext files that should be saved in the shared storage\n",
    "\n",
    "```python\n",
    "init(\n",
    "    config: Union[Dict, str, None] = None,\n",
    "    project: Optional[str] = None,\n",
    "    entity: Optional[str] = None,\n",
    "    tags: Optional[Sequence] = None,\n",
    "    group: Optional[str] = None,\n",
    "    name: Optional[str] = None,\n",
    "    notes: Optional[str] = None,\n",
    "    profane_save: Optional[Sequence] = None,\n",
    ") -> Union[Run, RunDisabled, None]\n",
    "```\n",
    "\n",
    "`project` is used to name the directory in `shared` and `local` that will store whatever is logged.\n"
   ]
  },
  {
   "cell_type": "markdown",
   "metadata": {},
   "source": [
    "## Console Script\n",
    "\n",
    "For commands that you'd like to log but you can't edit, a console script is included:\n",
    "\n",
    "```\n",
    "profane_subprocess <any command>\n",
    "```\n",
    "\n",
    "Will use `subprocess.run` to run `<any command>` and store the result. To set the project for the current directory, you can use [`wandb init`](https://docs.wandb.ai/ref/cli/wandb-init)."
   ]
  }
 ],
 "metadata": {
  "kernelspec": {
   "display_name": "python3",
   "language": "python",
   "name": "python3"
  }
 },
 "nbformat": 4,
 "nbformat_minor": 4
}
