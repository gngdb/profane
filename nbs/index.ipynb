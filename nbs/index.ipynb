{
 "cells": [
  {
   "cell_type": "code",
   "execution_count": null,
   "metadata": {},
   "outputs": [],
   "source": [
    "#| hide\n",
    "from profane.core import *"
   ]
  },
  {
   "cell_type": "markdown",
   "metadata": {},
   "source": [
    "# profane\n",
    "\n",
    "> Not sacred"
   ]
  },
  {
   "cell_type": "markdown",
   "metadata": {},
   "source": [
    "A hacky attempt at the goals of [sacred][], logging where, when and what experiment was run. It doesn't manage config variables, it is *only* for recording what happened.\n",
    "\n",
    "It's a wrapper for [weights & biases][wandb] so I don't have to write my own terminal output capture solution. It just gets captured the same way it would be if I was looking at it in the `wandb` dashboard.\n",
    "\n",
    "This also means that the interface is the same as using `wandb`:\n",
    "\n",
    "```\n",
    "from profane.core import init\n",
    "\n",
    "# somewhere in your script before you start your experiment:\n",
    "init(\n",
    "    project='my_project'\n",
    ")\n",
    "```\n",
    "\n",
    "All kwargs are passed to `wandb` but `wandb` is always run offline.\n",
    "\n",
    "The difference from `wandb` is that when the run finishes the logs are copied to two locations:\n",
    "\n",
    "* `local`: a local directory where **everything** captured gets saved\n",
    "* `shared`: a shared directory (like a git repo) where only the metadata and terminal logs get saved\n",
    "\n",
    "Information about every run is saved and the logs are saved, nothing is lost, and if I need to get more detail I can go look at the `local` directory and find detailed information.\n",
    "\n",
    "To do:\n",
    "\n",
    "* rebase to remove cerebras mentions\n",
    "* write this tutorial\n",
    "* test with a little experiment\n",
    "* make public\n",
    "\n",
    "[sacred]: https://github.com/IDSIA/sacred\n",
    "[wandb]: https://github.com/wandb/wandb"
   ]
  },
  {
   "cell_type": "markdown",
   "metadata": {},
   "source": [
    "## Install\n",
    "\n",
    "I haven't put it on pypi yet so a dev install is recommended:"
   ]
  },
  {
   "cell_type": "markdown",
   "metadata": {},
   "source": [
    "```sh\n",
    "git clone git@github.com:gngdb/profane.git\n",
    "cd profane\n",
    "pip install -e .\n",
    "```"
   ]
  },
  {
   "cell_type": "markdown",
   "metadata": {},
   "source": [
    "## How to use"
   ]
  },
  {
   "cell_type": "markdown",
   "metadata": {},
   "source": [
    "Fill me in please! Don't forget code examples:"
   ]
  },
  {
   "cell_type": "markdown",
   "metadata": {},
   "source": []
  },
  {
   "cell_type": "code",
   "execution_count": null,
   "metadata": {},
   "outputs": [
    {
     "data": {
      "text/plain": [
       "2"
      ]
     },
     "execution_count": null,
     "metadata": {},
     "output_type": "execute_result"
    }
   ],
   "source": [
    "1+1"
   ]
  },
  {
   "cell_type": "code",
   "execution_count": null,
   "metadata": {},
   "outputs": [],
   "source": []
  }
 ],
 "metadata": {
  "kernelspec": {
   "display_name": "python3",
   "language": "python",
   "name": "python3"
  }
 },
 "nbformat": 4,
 "nbformat_minor": 4
}
